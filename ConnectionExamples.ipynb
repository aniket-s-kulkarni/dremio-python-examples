{
 "cells": [
  {
   "cell_type": "code",
   "execution_count": 4,
   "metadata": {},
   "outputs": [],
   "source": [
    "import connection\n",
    "import pathlib\n",
    "\n",
    "# location of PAT\n",
    "# pat = pathlib.Path('file with PAT')\n",
    "\n",
    "# legacy JDBC driver location\n",
    "# driver = pathlib.Path('location of the driver jar')\n"
   ]
  },
  {
   "cell_type": "markdown",
   "metadata": {},
   "source": [
    "## Connect using Legacy JDBC"
   ]
  },
  {
   "cell_type": "code",
   "execution_count": 5,
   "metadata": {},
   "outputs": [],
   "source": [
    "# project ID for the project to connect to\n",
    "project_id = 'f03ab262-af2f-46bc-a719-2dbc22a06453'\n",
    "params = connection.JdbcConnectionParams(connection.Region.NA, pat.read_text(), connection.JdbcConnectionParams.TokenType.PAT,\n",
    "                                         project_id=project_id, driver_jar=driver)\n",
    "jconn = params.connect()"
   ]
  },
  {
   "cell_type": "code",
   "execution_count": 6,
   "metadata": {},
   "outputs": [
    {
     "name": "stdout",
     "output_type": "stream",
     "text": [
      "('2013-02-10 21:59:00', 2, 9.5)\n",
      "('2013-02-10 22:00:00', 6, 7.0)\n",
      "('2013-02-10 21:57:00', 1, 8.62)\n",
      "('2013-02-10 21:39:00', 1, 57.3)\n",
      "('2013-02-08 09:44:00', 1, 15.45)\n",
      "('2013-02-10 22:01:00', 1, 8.3)\n",
      "('2013-02-10 21:47:00', 1, 29.0)\n",
      "('2013-02-08 09:47:00', 1, 12.5)\n",
      "('2013-02-08 09:53:00', 1, 10.7)\n",
      "('2013-02-08 09:54:00', 5, 5.0)\n"
     ]
    }
   ],
   "source": [
    "# work with sample data\n",
    "with jconn.cursor() as cur:\n",
    "    cur.execute(\n",
    "        'select pickup_datetime, passenger_count, total_amount from Samples.\"samples.dremio.com\".\"NYC-taxi-trips-iceberg\" limit 10')\n",
    "    while row := cur.fetchone():\n",
    "        print(row)"
   ]
  },
  {
   "cell_type": "markdown",
   "metadata": {},
   "source": [
    "## Connect using ADBC\n",
    "\n",
    "This has the additional benefit of integrating directly with pandas"
   ]
  },
  {
   "cell_type": "code",
   "execution_count": null,
   "metadata": {},
   "outputs": [],
   "source": [
    "import pandas as pd\n",
    "import warnings\n",
    "warnings.filterwarnings(action='ignore', category=UserWarning)\n",
    "\n",
    "params = connection.AdbcConnectionParams(connection.Region.NA, pat.read_text(), project_id=project_id)\n",
    "conn = params.connect()"
   ]
  },
  {
   "cell_type": "code",
   "execution_count": 16,
   "metadata": {},
   "outputs": [
    {
     "data": {
      "text/html": [
       "<div>\n",
       "<style scoped>\n",
       "    .dataframe tbody tr th:only-of-type {\n",
       "        vertical-align: middle;\n",
       "    }\n",
       "\n",
       "    .dataframe tbody tr th {\n",
       "        vertical-align: top;\n",
       "    }\n",
       "\n",
       "    .dataframe thead th {\n",
       "        text-align: right;\n",
       "    }\n",
       "</style>\n",
       "<table border=\"1\" class=\"dataframe\">\n",
       "  <thead>\n",
       "    <tr style=\"text-align: right;\">\n",
       "      <th></th>\n",
       "      <th>pickup_datetime</th>\n",
       "      <th>passenger_count</th>\n",
       "      <th>trip_distance_mi</th>\n",
       "      <th>fare_amount</th>\n",
       "      <th>tip_amount</th>\n",
       "      <th>total_amount</th>\n",
       "    </tr>\n",
       "  </thead>\n",
       "  <tbody>\n",
       "    <tr>\n",
       "      <th>0</th>\n",
       "      <td>2013-02-10 21:59:00</td>\n",
       "      <td>2</td>\n",
       "      <td>1.61</td>\n",
       "      <td>7.0</td>\n",
       "      <td>1.50</td>\n",
       "      <td>9.50</td>\n",
       "    </tr>\n",
       "    <tr>\n",
       "      <th>1</th>\n",
       "      <td>2013-02-10 22:00:00</td>\n",
       "      <td>6</td>\n",
       "      <td>0.98</td>\n",
       "      <td>6.0</td>\n",
       "      <td>0.00</td>\n",
       "      <td>7.00</td>\n",
       "    </tr>\n",
       "    <tr>\n",
       "      <th>2</th>\n",
       "      <td>2013-02-10 21:57:00</td>\n",
       "      <td>1</td>\n",
       "      <td>1.09</td>\n",
       "      <td>6.0</td>\n",
       "      <td>1.62</td>\n",
       "      <td>8.62</td>\n",
       "    </tr>\n",
       "    <tr>\n",
       "      <th>3</th>\n",
       "      <td>2013-02-10 21:39:00</td>\n",
       "      <td>1</td>\n",
       "      <td>16.84</td>\n",
       "      <td>52.0</td>\n",
       "      <td>0.00</td>\n",
       "      <td>57.30</td>\n",
       "    </tr>\n",
       "    <tr>\n",
       "      <th>4</th>\n",
       "      <td>2013-02-08 09:44:00</td>\n",
       "      <td>1</td>\n",
       "      <td>1.95</td>\n",
       "      <td>11.5</td>\n",
       "      <td>3.45</td>\n",
       "      <td>15.45</td>\n",
       "    </tr>\n",
       "    <tr>\n",
       "      <th>5</th>\n",
       "      <td>2013-02-10 22:01:00</td>\n",
       "      <td>1</td>\n",
       "      <td>0.87</td>\n",
       "      <td>5.5</td>\n",
       "      <td>1.80</td>\n",
       "      <td>8.30</td>\n",
       "    </tr>\n",
       "    <tr>\n",
       "      <th>6</th>\n",
       "      <td>2013-02-10 21:47:00</td>\n",
       "      <td>1</td>\n",
       "      <td>9.92</td>\n",
       "      <td>28.0</td>\n",
       "      <td>0.00</td>\n",
       "      <td>29.00</td>\n",
       "    </tr>\n",
       "    <tr>\n",
       "      <th>7</th>\n",
       "      <td>2013-02-08 09:47:00</td>\n",
       "      <td>1</td>\n",
       "      <td>1.42</td>\n",
       "      <td>10.0</td>\n",
       "      <td>2.00</td>\n",
       "      <td>12.50</td>\n",
       "    </tr>\n",
       "    <tr>\n",
       "      <th>8</th>\n",
       "      <td>2013-02-08 09:53:00</td>\n",
       "      <td>1</td>\n",
       "      <td>1.51</td>\n",
       "      <td>8.5</td>\n",
       "      <td>1.70</td>\n",
       "      <td>10.70</td>\n",
       "    </tr>\n",
       "    <tr>\n",
       "      <th>9</th>\n",
       "      <td>2013-02-08 09:54:00</td>\n",
       "      <td>5</td>\n",
       "      <td>0.44</td>\n",
       "      <td>4.5</td>\n",
       "      <td>0.00</td>\n",
       "      <td>5.00</td>\n",
       "    </tr>\n",
       "  </tbody>\n",
       "</table>\n",
       "</div>"
      ],
      "text/plain": [
       "      pickup_datetime  passenger_count  trip_distance_mi  fare_amount  \\\n",
       "0 2013-02-10 21:59:00                2              1.61          7.0   \n",
       "1 2013-02-10 22:00:00                6              0.98          6.0   \n",
       "2 2013-02-10 21:57:00                1              1.09          6.0   \n",
       "3 2013-02-10 21:39:00                1             16.84         52.0   \n",
       "4 2013-02-08 09:44:00                1              1.95         11.5   \n",
       "5 2013-02-10 22:01:00                1              0.87          5.5   \n",
       "6 2013-02-10 21:47:00                1              9.92         28.0   \n",
       "7 2013-02-08 09:47:00                1              1.42         10.0   \n",
       "8 2013-02-08 09:53:00                1              1.51          8.5   \n",
       "9 2013-02-08 09:54:00                5              0.44          4.5   \n",
       "\n",
       "   tip_amount  total_amount  \n",
       "0        1.50          9.50  \n",
       "1        0.00          7.00  \n",
       "2        1.62          8.62  \n",
       "3        0.00         57.30  \n",
       "4        3.45         15.45  \n",
       "5        1.80          8.30  \n",
       "6        0.00         29.00  \n",
       "7        2.00         12.50  \n",
       "8        1.70         10.70  \n",
       "9        0.00          5.00  "
      ]
     },
     "execution_count": 16,
     "metadata": {},
     "output_type": "execute_result"
    }
   ],
   "source": [
    "pd.read_sql(\n",
    "    'select * from Samples.\"samples.dremio.com\".\"NYC-taxi-trips-iceberg\" limit 10', conn)"
   ]
  }
 ],
 "metadata": {
  "kernelspec": {
   "display_name": "Python 3 (ipykernel)",
   "language": "python",
   "name": "python3"
  },
  "language_info": {
   "codemirror_mode": {
    "name": "ipython",
    "version": 3
   },
   "file_extension": ".py",
   "mimetype": "text/x-python",
   "name": "python",
   "nbconvert_exporter": "python",
   "pygments_lexer": "ipython3",
   "version": "3.12.3"
  }
 },
 "nbformat": 4,
 "nbformat_minor": 4
}
